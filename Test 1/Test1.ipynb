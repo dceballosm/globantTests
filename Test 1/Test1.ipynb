{
 "cells": [
  {
   "cell_type": "markdown",
   "metadata": {},
   "source": [
    "## Libraries"
   ]
  },
  {
   "cell_type": "code",
   "execution_count": 4,
   "metadata": {
    "ExecuteTime": {
     "end_time": "2024-02-19T23:33:58.049150Z",
     "start_time": "2024-02-19T23:33:55.427251Z"
    }
   },
   "outputs": [],
   "source": [
    "import os\n",
    "import re\n",
    "\n",
    "import numpy as np\n",
    "import pandas as pd\n",
    "\n",
    "import gensim\n",
    "import gensim.corpora as corpora\n",
    "\n",
    "import pickle \n",
    "import pyLDAvis\n",
    "import pyLDAvis.gensim\n",
    "\n",
    "from pprint import pprint\n",
    "from bs4 import BeautifulSoup as bs\n",
    "\n",
    "### import nltk\n",
    "### nltk.download(\"averaged_perceptron_tagger\")\n",
    "### nltk.download('punkt')\n",
    "\n",
    "from nltk.tokenize import word_tokenize\n",
    "from nltk.corpus import stopwords\n",
    "from nltk.stem import SnowballStemmer\n",
    "from nltk import pos_tag\n",
    "\n",
    "from sklearn.decomposition import NMF\n",
    "from sklearn.feature_extraction.text import TfidfVectorizer"
   ]
  },
  {
   "cell_type": "markdown",
   "metadata": {},
   "source": [
    "## Parameters"
   ]
  },
  {
   "cell_type": "code",
   "execution_count": 5,
   "metadata": {
    "ExecuteTime": {
     "end_time": "2024-02-19T23:33:58.080369Z",
     "start_time": "2024-02-19T23:33:58.049150Z"
    }
   },
   "outputs": [],
   "source": [
    "currentFolder = os.getcwd()\n",
    "\n",
    "dataFolder = os.path.join(currentFolder, 'data')"
   ]
  },
  {
   "cell_type": "code",
   "execution_count": 6,
   "metadata": {
    "ExecuteTime": {
     "end_time": "2024-02-19T23:33:58.709823Z",
     "start_time": "2024-02-19T23:33:58.678520Z"
    }
   },
   "outputs": [],
   "source": [
    "stemmer = SnowballStemmer('english')\n",
    "\n",
    "stopWords = stopwords.words('english')\n",
    "stopWords.extend(['amp', 'lt', 'gt', 'br/'])"
   ]
  },
  {
   "cell_type": "markdown",
   "metadata": {},
   "source": [
    "## Functions"
   ]
  },
  {
   "cell_type": "code",
   "execution_count": 7,
   "metadata": {
    "ExecuteTime": {
     "end_time": "2024-02-19T23:34:00.357242Z",
     "start_time": "2024-02-19T23:34:00.325523Z"
    }
   },
   "outputs": [],
   "source": [
    "def tokenize(text: str):\n",
    "    \"\"\"This function helps to tokenize the text\n",
    "    Arguments\n",
    "        text : str\n",
    "    \n",
    "    Output\n",
    "        tokens : list\n",
    "    \"\"\"\n",
    "    return word_tokenize(text.lower(), language='english')\n",
    "\n",
    "def remove_stopwords(tokens: list):\n",
    "    \"\"\"This function is used to remove the stopwords from the text\n",
    "    Arguments\n",
    "        tokens : list\n",
    "\n",
    "    Output\n",
    "        tokens : list\n",
    "    \"\"\"\n",
    "    return [\n",
    "        word \n",
    "        for word in tokens \n",
    "        if word not in stopWords\n",
    "    ]\n",
    "\n",
    "def lemmatize(tokens: list):\n",
    "    \"\"\"This function is used to lemmatize the text\n",
    "    Arguments\n",
    "        tokens : list\n",
    "\n",
    "    Output:\n",
    "        lemm_tokens : list\n",
    "    \"\"\"\n",
    "    return [\n",
    "        stemmer.stem(word) \n",
    "        for word in tokens\n",
    "    ]\n",
    "\n",
    "\n",
    "def pos_tagging(tokens: list):\n",
    "    \"\"\"This function is used to pos_tagging the text\n",
    "    Arguments\n",
    "        tokens : list\n",
    "\n",
    "    Output\n",
    "        nouns : list\n",
    "    \"\"\"\n",
    "    tagged = pos_tag(tokens)\n",
    "    return \" \".join([word for word, pos in tagged if pos == \"NN\"])"
   ]
  },
  {
   "cell_type": "markdown",
   "metadata": {},
   "source": [
    "## Read Files & Process Texts"
   ]
  },
  {
   "cell_type": "markdown",
   "metadata": {},
   "source": [
    "#### Get Files Names by Condition"
   ]
  },
  {
   "cell_type": "code",
   "execution_count": 8,
   "metadata": {
    "ExecuteTime": {
     "end_time": "2024-02-19T23:34:00.907186Z",
     "start_time": "2024-02-19T23:34:00.828455Z"
    }
   },
   "outputs": [],
   "source": [
    "filesList = [\n",
    "    os.path.join(dataFolder, i) \n",
    "    for i in os.listdir(dataFolder) \n",
    "    if i.endswith('.xml')\n",
    "]"
   ]
  },
  {
   "cell_type": "markdown",
   "metadata": {},
   "source": [
    "### Extract Abstract from Files"
   ]
  },
  {
   "cell_type": "code",
   "execution_count": 6,
   "metadata": {
    "ExecuteTime": {
     "end_time": "2024-02-19T22:56:37.852622Z",
     "start_time": "2024-02-19T22:54:07.221414Z"
    }
   },
   "outputs": [],
   "source": [
    "abstractTag = 'AbstractNarration'\n",
    "\n",
    "abstractsList = []\n",
    "\n",
    "for filePath in filesList:\n",
    "    with open(filePath, 'r', encoding = 'utf-8') as f:\n",
    "        fileReaded = bs(f.read(), \"xml\")\n",
    "        \n",
    "    ## Get the abstract from fileReaded\n",
    "    abstract = fileReaded.find_all('AbstractNarration')\n",
    "    \n",
    "    ### Test: if all files have the 'AbstractNarration' tag\n",
    "    if not abstract:\n",
    "        print('\\n**************************************************')\n",
    "        print('Abstract tag \\'AbstractNarration\\' not in file: {}'.format(filePath))\n",
    "        print('**************************************************\\n')\n",
    "\n",
    "        abstractsList.append(None)\n",
    "        continue\n",
    "    ### All files have the 'AbstractNarration' tag\n",
    " \n",
    "    abstract = re.sub(\n",
    "        r'<\\/?{abstractTag}>'.format(abstractTag = abstractTag), \n",
    "        '', \n",
    "        str(abstract[0])\n",
    "    ).strip()\n",
    "    \n",
    "    if abstract == '':\n",
    "        abstract = None\n",
    "\n",
    "    abstractsList.append(abstract) \n",
    "\n",
    "    del abstract, fileReaded\n",
    "    "
   ]
  },
  {
   "cell_type": "markdown",
   "metadata": {},
   "source": [
    "### Process Data (Tokenize, Remove Stop Words, Lemmatize, Pos Tagging [NN])"
   ]
  },
  {
   "cell_type": "code",
   "execution_count": 7,
   "metadata": {
    "ExecuteTime": {
     "end_time": "2024-02-19T23:01:54.552880Z",
     "start_time": "2024-02-19T22:56:37.852622Z"
    }
   },
   "outputs": [],
   "source": [
    "abstractsListProcessed = [\n",
    "    pos_tagging(\n",
    "        lemmatize(\n",
    "            remove_stopwords(\n",
    "                tokenize(\n",
    "                    re.sub('[,\\.!?]', ' ', \n",
    "                        re.sub('[0-9]', '', i)\n",
    "                    )\n",
    "                )\n",
    "            )\n",
    "        )\n",
    "    )\n",
    "    for i in abstractsList\n",
    "]"
   ]
  },
  {
   "cell_type": "code",
   "execution_count": 8,
   "metadata": {
    "ExecuteTime": {
     "end_time": "2024-02-19T23:01:54.993370Z",
     "start_time": "2024-02-19T23:01:54.552880Z"
    }
   },
   "outputs": [],
   "source": [
    "abstractDF = pd.DataFrame()\n",
    "abstractDF['FILENAME'] = [os.path.basename(fileName) for fileName in filesList]\n",
    "abstractDF['ABSTRACT'] = abstractsList\n",
    "abstractDF['PROCESSED'] = abstractsListProcessed\n",
    "del abstractsList\n",
    "\n",
    "abstractDF = abstractDF.dropna(subset='ABSTRACT')\n",
    "abstractDF.to_parquet(os.path.join(dataFolder, 'data_tranformed.parquet'), index = False)"
   ]
  },
  {
   "cell_type": "code",
   "execution_count": 9,
   "metadata": {
    "ExecuteTime": {
     "end_time": "2024-02-19T23:34:06.999405Z",
     "start_time": "2024-02-19T23:34:06.527016Z"
    }
   },
   "outputs": [],
   "source": [
    "if 'abstractDF' not in globals():\n",
    "    abstractDF = pd.read_parquet(os.path.join(dataFolder, 'data_tranformed.parquet'))"
   ]
  },
  {
   "cell_type": "markdown",
   "metadata": {},
   "source": [
    "## Model Fitting"
   ]
  },
  {
   "cell_type": "markdown",
   "metadata": {},
   "source": [
    "### NMF"
   ]
  },
  {
   "cell_type": "code",
   "execution_count": 14,
   "metadata": {
    "ExecuteTime": {
     "end_time": "2024-02-19T23:34:34.958144Z",
     "start_time": "2024-02-19T23:34:34.942524Z"
    }
   },
   "outputs": [],
   "source": [
    "NUM_TOPICS = 5"
   ]
  },
  {
   "cell_type": "code",
   "execution_count": 15,
   "metadata": {
    "ExecuteTime": {
     "end_time": "2024-02-19T23:34:37.221733Z",
     "start_time": "2024-02-19T23:34:34.958144Z"
    }
   },
   "outputs": [],
   "source": [
    "tfidf = TfidfVectorizer(min_df=2, max_df=0.95)\n",
    "dtm = tfidf.fit_transform(abstractDF[\"PROCESSED\"])"
   ]
  },
  {
   "cell_type": "code",
   "execution_count": 17,
   "metadata": {
    "ExecuteTime": {
     "end_time": "2024-02-19T23:38:44.955225Z",
     "start_time": "2024-02-19T23:38:44.939341Z"
    }
   },
   "outputs": [
    {
     "data": {
      "text/plain": [
       "['network system project model comput problem research learn design algorithm machin method robot technolog optim',\n",
       " 'stem student program research project teacher scienc school educ profession colleg career particip engin mentor',\n",
       " 'abstractnarration star galaxi hole gravit gas observ model mass matter astrophys planet telescop merger neutrino',\n",
       " 'chang water research plant climat model project environment speci carbon biolog ecosystem region communiti soil',\n",
       " 'quantum materi electron properti research structur cell manufactur mechan metal magnet energi polym technolog process']"
      ]
     },
     "execution_count": 17,
     "metadata": {},
     "output_type": "execute_result"
    }
   ],
   "source": [
    "NUM_WORDS = 15\n",
    "\n",
    "nmf = NMF(n_components=NUM_TOPICS, random_state=123)\n",
    "nmf.fit(dtm)\n",
    "\n",
    "W = nmf.transform(dtm)\n",
    "H = nmf.components_\n",
    "\n",
    "vocab = np.array(tfidf.get_feature_names_out())\n",
    "\n",
    "topWordsFunc = lambda t: [vocab[i] for i in np.argsort(t)[: -NUM_WORDS - 1 : -1]]\n",
    "topicWords = [topWordsFunc(t) for t in H]\n",
    "topicWords = [\" \".join(t) for t in topicWords]\n",
    "topicWords"
   ]
  },
  {
   "cell_type": "code",
   "execution_count": 20,
   "metadata": {
    "ExecuteTime": {
     "end_time": "2024-02-19T23:39:33.125346Z",
     "start_time": "2024-02-19T23:39:33.100734Z"
    }
   },
   "outputs": [
    {
     "data": {
      "text/html": [
       "<div>\n",
       "<style scoped>\n",
       "    .dataframe tbody tr th:only-of-type {\n",
       "        vertical-align: middle;\n",
       "    }\n",
       "\n",
       "    .dataframe tbody tr th {\n",
       "        vertical-align: top;\n",
       "    }\n",
       "\n",
       "    .dataframe thead th {\n",
       "        text-align: right;\n",
       "    }\n",
       "</style>\n",
       "<table border=\"1\" class=\"dataframe\">\n",
       "  <thead>\n",
       "    <tr style=\"text-align: right;\">\n",
       "      <th></th>\n",
       "      <th>TOPIC_0</th>\n",
       "      <th>TOPIC_1</th>\n",
       "      <th>TOPIC_2</th>\n",
       "      <th>TOPIC_3</th>\n",
       "      <th>TOPIC_4</th>\n",
       "      <th>TOPIC</th>\n",
       "    </tr>\n",
       "  </thead>\n",
       "  <tbody>\n",
       "    <tr>\n",
       "      <th>ticket_0</th>\n",
       "      <td>0.00</td>\n",
       "      <td>0.00</td>\n",
       "      <td>0.0</td>\n",
       "      <td>0.04</td>\n",
       "      <td>0.02</td>\n",
       "      <td>3</td>\n",
       "    </tr>\n",
       "    <tr>\n",
       "      <th>ticket_1</th>\n",
       "      <td>0.01</td>\n",
       "      <td>0.11</td>\n",
       "      <td>0.0</td>\n",
       "      <td>0.02</td>\n",
       "      <td>0.00</td>\n",
       "      <td>1</td>\n",
       "    </tr>\n",
       "    <tr>\n",
       "      <th>ticket_2</th>\n",
       "      <td>0.02</td>\n",
       "      <td>0.04</td>\n",
       "      <td>0.0</td>\n",
       "      <td>0.01</td>\n",
       "      <td>0.02</td>\n",
       "      <td>1</td>\n",
       "    </tr>\n",
       "    <tr>\n",
       "      <th>ticket_3</th>\n",
       "      <td>0.01</td>\n",
       "      <td>0.11</td>\n",
       "      <td>0.0</td>\n",
       "      <td>0.01</td>\n",
       "      <td>0.00</td>\n",
       "      <td>1</td>\n",
       "    </tr>\n",
       "    <tr>\n",
       "      <th>ticket_4</th>\n",
       "      <td>0.00</td>\n",
       "      <td>0.03</td>\n",
       "      <td>0.0</td>\n",
       "      <td>0.02</td>\n",
       "      <td>0.03</td>\n",
       "      <td>1</td>\n",
       "    </tr>\n",
       "  </tbody>\n",
       "</table>\n",
       "</div>"
      ],
      "text/plain": [
       "          TOPIC_0  TOPIC_1  TOPIC_2  TOPIC_3  TOPIC_4  TOPIC\n",
       "ticket_0     0.00     0.00      0.0     0.04     0.02      3\n",
       "ticket_1     0.01     0.11      0.0     0.02     0.00      1\n",
       "ticket_2     0.02     0.04      0.0     0.01     0.02      1\n",
       "ticket_3     0.01     0.11      0.0     0.01     0.00      1\n",
       "ticket_4     0.00     0.03      0.0     0.02     0.03      1"
      ]
     },
     "metadata": {},
     "output_type": "display_data"
    }
   ],
   "source": [
    "topicsDF = pd.DataFrame(\n",
    "    np.round(W, 2), \n",
    "    columns = [\"TOPIC_\" + str(i) for i in range(nmf.n_components)], \n",
    "    index = [\"ticket_\" + str(i) for i in range(len(abstractDF['PROCESSED']))]\n",
    ")\n",
    "\n",
    "topTopic = np.argmax(topicsDF.values, axis=1)\n",
    "topicsDF[\"TOPIC\"] = topTopic\n",
    "abstractDF[\"TOPIC\"] = topTopic\n",
    "\n",
    "display(topicsDF.head())"
   ]
  },
  {
   "cell_type": "code",
   "execution_count": 21,
   "metadata": {
    "ExecuteTime": {
     "end_time": "2024-02-19T23:39:36.273667Z",
     "start_time": "2024-02-19T23:39:36.260562Z"
    }
   },
   "outputs": [],
   "source": [
    "topicsDict = dict(\n",
    "    zip(\n",
    "        range(0,nmf.n_components),\n",
    "        [\n",
    "            \"Computational Problem-solving: Network Systems, Machine Learning, and Algorithmic Design\",\n",
    "            \"STEM Education Program: Empowering Students, Teachers, and Career Advancement\",\n",
    "            \"Astrophysical Abstract Narratives: Stars, Galaxies, Black Holes, and Gravitational Observations\",\n",
    "            \"Environmental Changes: Climate, Water, and Plant Research in Specific Regions\",\n",
    "            \"Quantum Materials and Energy: Electronic Properties, Structural Insights, and Manufacturing\"\n",
    "        ]\n",
    "    )\n",
    ")\n",
    "abstractDF[\"TOPIC\"] = abstractDF[\"TOPIC\"].map(topicsDict)"
   ]
  },
  {
   "cell_type": "code",
   "execution_count": 22,
   "metadata": {
    "ExecuteTime": {
     "end_time": "2024-02-19T23:39:37.884651Z",
     "start_time": "2024-02-19T23:39:37.859516Z"
    }
   },
   "outputs": [
    {
     "data": {
      "text/html": [
       "<div>\n",
       "<style scoped>\n",
       "    .dataframe tbody tr th:only-of-type {\n",
       "        vertical-align: middle;\n",
       "    }\n",
       "\n",
       "    .dataframe tbody tr th {\n",
       "        vertical-align: top;\n",
       "    }\n",
       "\n",
       "    .dataframe thead th {\n",
       "        text-align: right;\n",
       "    }\n",
       "</style>\n",
       "<table border=\"1\" class=\"dataframe\">\n",
       "  <thead>\n",
       "    <tr style=\"text-align: right;\">\n",
       "      <th></th>\n",
       "      <th>FILENAME</th>\n",
       "      <th>ABSTRACT</th>\n",
       "      <th>PROCESSED</th>\n",
       "      <th>TOPIC</th>\n",
       "    </tr>\n",
       "  </thead>\n",
       "  <tbody>\n",
       "    <tr>\n",
       "      <th>0</th>\n",
       "      <td>2000005.xml</td>\n",
       "      <td>Head and heart development are closely intertw...</td>\n",
       "      <td>head heart share regulatori mechan progenitor ...</td>\n",
       "      <td>Environmental Changes: Climate, Water, and Pla...</td>\n",
       "    </tr>\n",
       "    <tr>\n",
       "      <th>1</th>\n",
       "      <td>2000009.xml</td>\n",
       "      <td>The National Academy of Engineering identified...</td>\n",
       "      <td>nation academi engin identifi issu challeng st...</td>\n",
       "      <td>STEM Education Program: Empowering Students, T...</td>\n",
       "    </tr>\n",
       "    <tr>\n",
       "      <th>2</th>\n",
       "      <td>2000012.xml</td>\n",
       "      <td>This award provides three years of funding to ...</td>\n",
       "      <td>award provid year fund help confer seri analys...</td>\n",
       "      <td>STEM Education Program: Empowering Students, T...</td>\n",
       "    </tr>\n",
       "    <tr>\n",
       "      <th>3</th>\n",
       "      <td>2000021.xml</td>\n",
       "      <td>This collaborative research project, involving...</td>\n",
       "      <td>collabor research project state epistem form s...</td>\n",
       "      <td>STEM Education Program: Empowering Students, T...</td>\n",
       "    </tr>\n",
       "    <tr>\n",
       "      <th>4</th>\n",
       "      <td>2000028.xml</td>\n",
       "      <td>Research Initiation Awards provide support for...</td>\n",
       "      <td>research support mid-car faculti histor colleg...</td>\n",
       "      <td>STEM Education Program: Empowering Students, T...</td>\n",
       "    </tr>\n",
       "    <tr>\n",
       "      <th>...</th>\n",
       "      <td>...</td>\n",
       "      <td>...</td>\n",
       "      <td>...</td>\n",
       "      <td>...</td>\n",
       "    </tr>\n",
       "    <tr>\n",
       "      <th>13295</th>\n",
       "      <td>2055767.xml</td>\n",
       "      <td>Recent studies have highlighted the nation's i...</td>\n",
       "      <td>studi nation advanc manufactur exampl studi de...</td>\n",
       "      <td>STEM Education Program: Empowering Students, T...</td>\n",
       "    </tr>\n",
       "    <tr>\n",
       "      <th>13296</th>\n",
       "      <td>2055771.xml</td>\n",
       "      <td>This project links two mathematical fields, dy...</td>\n",
       "      <td>project field dynam algebra elementari dynam s...</td>\n",
       "      <td>Computational Problem-solving: Network Systems...</td>\n",
       "    </tr>\n",
       "    <tr>\n",
       "      <th>13297</th>\n",
       "      <td>2055772.xml</td>\n",
       "      <td>Recent years have seen a dramatic rise in mobi...</td>\n",
       "      <td>year health monitor trend pandem collect massi...</td>\n",
       "      <td>Computational Problem-solving: Network Systems...</td>\n",
       "    </tr>\n",
       "    <tr>\n",
       "      <th>13298</th>\n",
       "      <td>2055773.xml</td>\n",
       "      <td>Recent years have seen a dramatic rise in mobi...</td>\n",
       "      <td>year health monitor trend pandem collect massi...</td>\n",
       "      <td>Computational Problem-solving: Network Systems...</td>\n",
       "    </tr>\n",
       "    <tr>\n",
       "      <th>13299</th>\n",
       "      <td>2055781.xml</td>\n",
       "      <td>The Information Technology (IT) workforce is c...</td>\n",
       "      <td>inform technolog predict show worker reach ala...</td>\n",
       "      <td>STEM Education Program: Empowering Students, T...</td>\n",
       "    </tr>\n",
       "  </tbody>\n",
       "</table>\n",
       "<p>13300 rows × 4 columns</p>\n",
       "</div>"
      ],
      "text/plain": [
       "          FILENAME                                           ABSTRACT  \\\n",
       "0      2000005.xml  Head and heart development are closely intertw...   \n",
       "1      2000009.xml  The National Academy of Engineering identified...   \n",
       "2      2000012.xml  This award provides three years of funding to ...   \n",
       "3      2000021.xml  This collaborative research project, involving...   \n",
       "4      2000028.xml  Research Initiation Awards provide support for...   \n",
       "...            ...                                                ...   \n",
       "13295  2055767.xml  Recent studies have highlighted the nation's i...   \n",
       "13296  2055771.xml  This project links two mathematical fields, dy...   \n",
       "13297  2055772.xml  Recent years have seen a dramatic rise in mobi...   \n",
       "13298  2055773.xml  Recent years have seen a dramatic rise in mobi...   \n",
       "13299  2055781.xml  The Information Technology (IT) workforce is c...   \n",
       "\n",
       "                                               PROCESSED  \\\n",
       "0      head heart share regulatori mechan progenitor ...   \n",
       "1      nation academi engin identifi issu challeng st...   \n",
       "2      award provid year fund help confer seri analys...   \n",
       "3      collabor research project state epistem form s...   \n",
       "4      research support mid-car faculti histor colleg...   \n",
       "...                                                  ...   \n",
       "13295  studi nation advanc manufactur exampl studi de...   \n",
       "13296  project field dynam algebra elementari dynam s...   \n",
       "13297  year health monitor trend pandem collect massi...   \n",
       "13298  year health monitor trend pandem collect massi...   \n",
       "13299  inform technolog predict show worker reach ala...   \n",
       "\n",
       "                                                   TOPIC  \n",
       "0      Environmental Changes: Climate, Water, and Pla...  \n",
       "1      STEM Education Program: Empowering Students, T...  \n",
       "2      STEM Education Program: Empowering Students, T...  \n",
       "3      STEM Education Program: Empowering Students, T...  \n",
       "4      STEM Education Program: Empowering Students, T...  \n",
       "...                                                  ...  \n",
       "13295  STEM Education Program: Empowering Students, T...  \n",
       "13296  Computational Problem-solving: Network Systems...  \n",
       "13297  Computational Problem-solving: Network Systems...  \n",
       "13298  Computational Problem-solving: Network Systems...  \n",
       "13299  STEM Education Program: Empowering Students, T...  \n",
       "\n",
       "[13300 rows x 4 columns]"
      ]
     },
     "execution_count": 22,
     "metadata": {},
     "output_type": "execute_result"
    }
   ],
   "source": [
    "abstractDF"
   ]
  },
  {
   "cell_type": "code",
   "execution_count": 25,
   "metadata": {
    "ExecuteTime": {
     "end_time": "2024-02-19T23:40:00.364975Z",
     "start_time": "2024-02-19T23:40:00.348957Z"
    }
   },
   "outputs": [
    {
     "data": {
      "text/plain": [
       "Environmental Changes: Climate, Water, and Plant Research in Specific Regions                      4285\n",
       "Computational Problem-solving: Network Systems, Machine Learning, and Algorithmic Design           4079\n",
       "Quantum Materials and Energy: Electronic Properties, Structural Insights, and Manufacturing        2455\n",
       "STEM Education Program: Empowering Students, Teachers, and Career Advancement                      2340\n",
       "Astrophysical Abstract Narratives: Stars, Galaxies, Black Holes, and Gravitational Observations     141\n",
       "Name: TOPIC, dtype: int64"
      ]
     },
     "execution_count": 25,
     "metadata": {},
     "output_type": "execute_result"
    }
   ],
   "source": [
    "abstractDF['TOPIC'].value_counts()"
   ]
  }
 ],
 "metadata": {
  "kernelspec": {
   "display_name": "Python 3 (ipykernel)",
   "language": "python",
   "name": "python3"
  },
  "language_info": {
   "codemirror_mode": {
    "name": "ipython",
    "version": 3
   },
   "file_extension": ".py",
   "mimetype": "text/x-python",
   "name": "python",
   "nbconvert_exporter": "python",
   "pygments_lexer": "ipython3",
   "version": "3.8.0"
  }
 },
 "nbformat": 4,
 "nbformat_minor": 2
}
